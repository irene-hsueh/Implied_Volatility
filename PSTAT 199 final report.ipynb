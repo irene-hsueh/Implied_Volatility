{
 "cells": [
  {
   "cell_type": "markdown",
   "metadata": {
    "id": "Py76qtJnj6Jt"
   },
   "source": [
    "# **1. Black Scholes Formula**\n",
    "\n"
   ]
  },
  {
   "cell_type": "code",
   "execution_count": 194,
   "metadata": {
    "id": "RoFXuuScYtXN"
   },
   "outputs": [],
   "source": [
    "import numpy as np \n",
    "from math import sqrt, exp, log, pi\n",
    "from scipy.stats import norm "
   ]
  },
  {
   "cell_type": "code",
   "execution_count": 195,
   "metadata": {
    "id": "aZDIa_lYsRRz"
   },
   "outputs": [],
   "source": [
    "def BS_call_price(S_0, K, sigma, r, t, delta):\n",
    "  d_1 = (log(S_0/K)+(r-delta+sigma**2/2)*t)/(sigma*sqrt(t))\n",
    "  d_2 = d_1-sigma*sqrt(t) \n",
    "  return S_0*exp(-delta*t)*norm.cdf(d_1)-K*exp(-r*t)*norm.cdf(d_2)\n",
    "\n",
    "def BS_put_price(S_0, K, sigma, r, t, delta):\n",
    "  d_1 = (log(S_0/K)+(r-delta+sigma**2/2)*t)/(sigma*sqrt(t))\n",
    "  d_2 = d_1-sigma*sqrt(t)\n",
    "  return K*exp(-r*t)*norm.cdf(-d_2)-S_0*exp(-delta*t)*norm.cdf(-d_1)"
   ]
  },
  {
   "cell_type": "code",
   "execution_count": 196,
   "metadata": {
    "colab": {
     "base_uri": "https://localhost:8080/"
    },
    "id": "_-7TDEg3XR9I",
    "outputId": "cd08764d-4357-4baf-8b95-e748f65741e4"
   },
   "outputs": [
    {
     "name": "stdout",
     "output_type": "stream",
     "text": [
      "The Black-Scholes European call option price is 13.533186104198634 \n",
      "The Black-Scholes European put option price is 31.983282306633136\n",
      "\n",
      "Put-call parity is satisfied.\n"
     ]
    }
   ],
   "source": [
    "S_0 = 100 \n",
    "K = 120\n",
    "r = 0.013            # 10 year treasury rate = 1.30% (Last Updated Aug 31 2021, 18:00 EDT)\n",
    "t = 1         \n",
    "delta = 0\n",
    "sigma = 0.5\n",
    "\n",
    "\n",
    "# Test our funcitons\n",
    "print(\"The Black-Scholes European call option price is\", BS_call_price(S_0, K, sigma, r, t, delta), \n",
    "      \"\\nThe Black-Scholes European put option price is\", BS_put_price(S_0, K, sigma, r, t, delta))\n",
    "\n",
    "\n",
    "C_0 = BS_call_price(S_0, K, sigma, r, t, delta)\n",
    "P_0 = BS_put_price(S_0, K, sigma, r, t, delta)\n",
    "\n",
    "if abs((C_0-P_0)-(S_0*exp(-delta*t)-K*exp(-r*t))) <= 0.001:\n",
    "  print(\"\\nPut-call parity is satisfied.\")\n",
    "else:\n",
    "  print(\"\\nPut-call parity is NOT satisfied.\")"
   ]
  },
  {
   "cell_type": "markdown",
   "metadata": {
    "id": "596nqYhRtfS4"
   },
   "source": [
    "# **2. Newton-Raphson method**"
   ]
  },
  {
   "cell_type": "code",
   "execution_count": 197,
   "metadata": {
    "colab": {
     "base_uri": "https://localhost:8080/"
    },
    "id": "81PtJwa6bPes",
    "outputId": "83310ad2-8aad-4ed3-e07e-d5e7bde106cb"
   },
   "outputs": [],
   "source": [
    "def Newton_IV(option_price, S_0, K, r, t, delta, option_type=\"call\"):\n",
    "  tol = 1e-3                            # set tolerance to be 0.1%\n",
    "  epsilon = 1                           # epsilon is the actual percentage change of implied volatility estimated from one iteration to the other \n",
    "\n",
    "  count = 0\n",
    "  max_iter = 1000                       # stopping criteria\n",
    "\n",
    "  iv = 0.5                             # initial guess of the implied volatility\n",
    "\n",
    "  while epsilon > tol:\n",
    "    count += 1\n",
    "    if count >= max_iter:\n",
    "      print(\"Break on count\")\n",
    "      break;\n",
    "  \n",
    "    orig_iv = iv                      # hold a copy of the initial guess\n",
    "\n",
    "    d_1 = (log(S_0/K)+(r-delta+iv**2/2)*t)/(iv*sqrt(t))\n",
    "    d_2 = d_1-iv*sqrt(t)\n",
    "\n",
    "    if option_type == \"call\":\n",
    "      diff = BS_call_price(S_0, K, iv, r, t, delta) - option_price\n",
    "    \n",
    "    elif option_type == \"put\":\n",
    "      diff = BS_put_price(S_0, K, iv, r, t, delta) - option_price\n",
    "    \n",
    "    else:\n",
    "      raise ValueError(\"Option_type must be 'put' or 'call'\")\n",
    "\n",
    "    vega = S_0*norm.pdf(d_1)*sqrt(t)    # derivative of the option price with respect to volatility \n",
    "\n",
    "    iv = -diff/vega + iv\n",
    "\n",
    "    epsilon = abs((iv-orig_iv)/orig_iv)\n",
    "\n",
    "    return iv"
   ]
  },
  {
   "cell_type": "code",
   "execution_count": 198,
   "metadata": {},
   "outputs": [
    {
     "name": "stdout",
     "output_type": "stream",
     "text": [
      "The implied volatility for the call option is 0.4991648731186123\n",
      "The error percentage is 0.16702537627754088 %\n",
      "\n",
      "\n",
      "The implied volatility for the put option is 0.5004207000328179\n",
      "The error percentage is 0.08414000656358223 %\n"
     ]
    }
   ],
   "source": [
    "# Test call option\n",
    "\n",
    "option_price = 13.5\n",
    "print(\"The implied volatility for the call option is\", Newton_IV(option_price, S_0, K, r, t, delta, \"call\"))\n",
    "\n",
    "error = (abs(Newton_IV(option_price, S_0, K, r, t, delta, \"call\")-0.5)/0.5)*100\n",
    "print(\"The error percentage is\", error, \"%\")\n",
    "\n",
    "\n",
    "# Test put option\n",
    "\n",
    "option_price = 32\n",
    "print(\"\\n\\nThe implied volatility for the put option is\", Newton_IV(option_price, S_0, K, r, t, delta, \"put\"))\n",
    "\n",
    "error = (abs(Newton_IV(option_price, S_0, K, r, t, delta, \"put\")-0.5)/0.5)*100\n",
    "print(\"The error percentage is\", error, \"%\")"
   ]
  },
  {
   "cell_type": "code",
   "execution_count": 199,
   "metadata": {},
   "outputs": [
    {
     "name": "stdout",
     "output_type": "stream",
     "text": [
      "The Black-Scholes European call option price is 0.00017901639433542428 \n",
      "The Black-Scholes European put option price is 19.9845800303504\n",
      "\n",
      "Put-call parity is satisfied.\n"
     ]
    }
   ],
   "source": [
    "# Another test with new parameters\n",
    "\n",
    "t2 = 0.01\n",
    "\n",
    "print(\"The Black-Scholes European call option price is\", BS_call_price(S_0, K, sigma, r, t2, delta), \n",
    "      \"\\nThe Black-Scholes European put option price is\", BS_put_price(S_0, K, sigma, r, t2, delta))\n",
    "\n",
    "\n",
    "C_0 = BS_call_price(S_0, K, sigma, r, t2, delta)\n",
    "P_0 = BS_put_price(S_0, K, sigma, r, t2, delta)\n",
    "\n",
    "if abs((C_0-P_0)-(S_0*exp(-delta*t2)-K*exp(-r*t2))) <= 0.001:\n",
    "  print(\"\\nPut-call parity is satisfied.\")\n",
    "else:\n",
    "  print(\"\\nPut-call parity is NOT satisfied.\")"
   ]
  },
  {
   "cell_type": "code",
   "execution_count": 200,
   "metadata": {},
   "outputs": [
    {
     "name": "stdout",
     "output_type": "stream",
     "text": [
      "The implied volatility for the put option is 3.1972452006992333\n",
      "The error percentage is 539.4490401398467 %\n"
     ]
    }
   ],
   "source": [
    "# Test put option\n",
    "\n",
    "option_price = 20\n",
    "print(\"The implied volatility for the put option is\", Newton_IV(option_price, S_0, K, r, t2, delta, \"put\"))\n",
    "\n",
    "error = (abs(Newton_IV(option_price, S_0, K, r, t2, delta, \"put\")-0.5)/0.5)*100\n",
    "print(\"The error percentage is\", error, \"%\")"
   ]
  },
  {
   "cell_type": "code",
   "execution_count": 201,
   "metadata": {},
   "outputs": [
    {
     "name": "stdout",
     "output_type": "stream",
     "text": [
      "\n",
      "\n",
      "The Black-Scholes European call option price is 7.169925224729526e-05 \n",
      "The Black-Scholes European put option price is 887.0842067195398\n",
      "\n",
      "Put-call parity is satisfied.\n"
     ]
    }
   ],
   "source": [
    "# Test ITM Put \n",
    "\n",
    "K2 = 1000\n",
    "\n",
    "print(\"\\n\\nThe Black-Scholes European call option price is\", BS_call_price(S_0, K2, sigma, r, t, delta), \n",
    "      \"\\nThe Black-Scholes European put option price is\", BS_put_price(S_0, K2, sigma, r, t, delta))\n",
    "\n",
    "\n",
    "C_0 = BS_call_price(S_0, K2, sigma, r, t, delta)\n",
    "P_0 = BS_put_price(S_0, K2, sigma, r, t, delta)\n",
    "\n",
    "if abs((C_0-P_0)-(S_0*exp(-delta*t)-K2*exp(-r*t))) <= 0.001:\n",
    "  print(\"\\nPut-call parity is satisfied.\")\n",
    "else:\n",
    "  print(\"\\nPut-call parity is NOT satisfied.\")"
   ]
  },
  {
   "cell_type": "code",
   "execution_count": 202,
   "metadata": {},
   "outputs": [
    {
     "name": "stdout",
     "output_type": "stream",
     "text": [
      "Vega is 0.0033978051605003195\n",
      "The implied volatility for the ITM put option is 5.148083016597728\n",
      "The error percentage is 929.6166033195457 %\n"
     ]
    }
   ],
   "source": [
    "option_price =  887.1\n",
    "\n",
    "\n",
    "def Newton_vega(option_price, S_0, K, r, t, delta, option_type=\"call\"):\n",
    "  tol = 1e-3                            \n",
    "  epsilon = 1                           \n",
    "\n",
    "  count = 0\n",
    "  max_iter = 1000                       \n",
    "\n",
    "  iv = 0.5                            \n",
    "\n",
    "  while epsilon > tol:\n",
    "    count += 1\n",
    "    if count >= max_iter:\n",
    "      print(\"Break on count\")\n",
    "      break;\n",
    "  \n",
    "    orig_iv = iv                      # hold a copy of the initial guess\n",
    "\n",
    "    d_1 = (log(S_0/K)+(r-delta+iv**2/2)*t)/(iv*sqrt(t))\n",
    "    d_2 = d_1-iv*sqrt(t)\n",
    "\n",
    "    if option_type == \"call\":\n",
    "      diff = BS_call_price(S_0, K, iv, r, t, delta) - option_price\n",
    "    \n",
    "    elif option_type == \"put\":\n",
    "      diff = BS_put_price(S_0, K, iv, r, t, delta) - option_price\n",
    "    \n",
    "    else:\n",
    "      raise ValueError(\"Option_type must be 'put' or 'call'\")\n",
    "\n",
    "    vega = S_0*norm.pdf(d_1)*sqrt(t)    # derivative of the option price with respect to volatility \n",
    "\n",
    "    iv = -diff/vega + iv\n",
    "\n",
    "    epsilon = abs((iv-orig_iv)/orig_iv)\n",
    "\n",
    "    return vega\n",
    "\n",
    "\n",
    "print(\"Vega is\",  Newton_vega(option_price, S_0, K2, r, t, delta, \"put\"))\n",
    "\n",
    "print(\"The implied volatility for the ITM put option is\", Newton_IV(option_price, S_0, K2, r, t, delta, \"put\"))\n",
    "\n",
    "error = (abs(Newton_IV(option_price, S_0, K2, r, t, delta, \"put\")-0.5)/0.5)*100\n",
    "print(\"The error percentage is\", error, \"%\")"
   ]
  },
  {
   "cell_type": "markdown",
   "metadata": {
    "id": "fzn1a7BZ6gBP"
   },
   "source": [
    "# **3. Brent’s method**"
   ]
  },
  {
   "cell_type": "code",
   "execution_count": 203,
   "metadata": {
    "colab": {
     "base_uri": "https://localhost:8080/"
    },
    "id": "aq5_YED56oc1",
    "outputId": "c2945f82-8133-44a9-e007-9259bf6592c2"
   },
   "outputs": [
    {
     "name": "stdout",
     "output_type": "stream",
     "text": [
      "The implied volatility is 0.5004191938976776\n"
     ]
    }
   ],
   "source": [
    "from scipy.optimize import minimize_scalar \n",
    "\n",
    "\n",
    "def Brent_IV(option_price, S_0, K, r, t, delta, option_type=\"call\"):\n",
    "    \n",
    "    def call_obj(sigma):\n",
    "        return abs(BS_call_price(S_0, K, sigma, r, t, delta) - option_price)\n",
    "    \n",
    "    def put_obj(sigma):\n",
    "        return abs(BS_put_price(S_0, K, sigma, r, t, delta) - option_price)\n",
    "    \n",
    "    if option_type == \"call\":\n",
    "        res = minimize_scalar(call_obj, bounds=(0.01,6), method='bounded')\n",
    "        return res.x\n",
    "    elif option_type == 'put':\n",
    "        res = minimize_scalar(put_obj, bounds=(0.01,6), method='bounded')\n",
    "        return res.x\n",
    "    else:\n",
    "        raise ValueError(\"option_type must be 'put' or 'call'\")\n",
    "\n",
    "option_price = 32\n",
    "print(\"The implied volatility is\", Brent_IV(option_price, S_0, K, r, t, delta, \"put\"))"
   ]
  },
  {
   "cell_type": "code",
   "execution_count": 204,
   "metadata": {},
   "outputs": [
    {
     "name": "stdout",
     "output_type": "stream",
     "text": [
      "The implied volatility for the call option is 0.49916543892852827\n",
      "The error percentage is 0.16691221429434577 %\n",
      "The implied volatility for the put option is 0.5004191938976776\n",
      "The error percentage is 0.08383877953552776 %\n"
     ]
    }
   ],
   "source": [
    "# Test call option\n",
    "\n",
    "option_price = 13.5\n",
    "print(\"The implied volatility for the call option is\", Brent_IV(option_price, S_0, K, r, t, delta, \"call\"))\n",
    "\n",
    "error = (abs(Brent_IV(option_price, S_0, K, r, t, delta, \"call\")-0.5)/0.5)*100\n",
    "print(\"The error percentage is\", error, \"%\")\n",
    "\n",
    "\n",
    "# Test put option\n",
    "\n",
    "option_price = 32\n",
    "print(\"The implied volatility for the put option is\", Brent_IV(option_price, S_0, K, r, t, delta, \"put\"))\n",
    "\n",
    "error = (abs(Brent_IV(option_price, S_0, K, r, t, delta, \"put\")-0.5)/0.5)*100\n",
    "print(\"The error percentage is\", error, \"%\")"
   ]
  },
  {
   "cell_type": "code",
   "execution_count": 205,
   "metadata": {},
   "outputs": [
    {
     "name": "stdout",
     "output_type": "stream",
     "text": [
      "The implied volatility for the ITM put option is 0.5616814702400027\n",
      "The error percentage is 12.33629404800054 %\n"
     ]
    }
   ],
   "source": [
    "option_price = 887.085\n",
    "\n",
    "K2 = 1000\n",
    "\n",
    "print(\"The implied volatility for the ITM put option is\", Brent_IV(option_price, S_0, K2, r, t, delta, \"put\"))\n",
    "\n",
    "error = (abs(Brent_IV(option_price, S_0, K2, r, t, delta, \"put\")-0.5)/0.5)*100\n",
    "print(\"The error percentage is\", error, \"%\")"
   ]
  },
  {
   "cell_type": "markdown",
   "metadata": {
    "id": "ygt5r6_R62yB"
   },
   "source": [
    "# **4. Volatility Smile**"
   ]
  },
  {
   "cell_type": "markdown",
   "metadata": {
    "id": "niVFWP08kfNy"
   },
   "source": [
    "# **4.1 Get the stock info (S_0 and delta) and expiration (T)**"
   ]
  },
  {
   "cell_type": "code",
   "execution_count": 170,
   "metadata": {
    "colab": {
     "base_uri": "https://localhost:8080/"
    },
    "id": "FuAoPR9q68Az",
    "outputId": "da8b44b3-a28d-4fd8-8f34-87763c95e801"
   },
   "outputs": [
    {
     "name": "stdout",
     "output_type": "stream",
     "text": [
      "Requirement already satisfied: yfinance in /Users/irenehsueh/opt/anaconda3/lib/python3.8/site-packages (0.1.63)\n",
      "Requirement already satisfied: requests>=2.20 in /Users/irenehsueh/opt/anaconda3/lib/python3.8/site-packages (from yfinance) (2.25.1)\n",
      "Requirement already satisfied: numpy>=1.15 in /Users/irenehsueh/opt/anaconda3/lib/python3.8/site-packages (from yfinance) (1.20.3)\n",
      "Requirement already satisfied: pandas>=0.24 in /Users/irenehsueh/opt/anaconda3/lib/python3.8/site-packages (from yfinance) (1.3.1)\n",
      "Requirement already satisfied: lxml>=4.5.1 in /Users/irenehsueh/opt/anaconda3/lib/python3.8/site-packages (from yfinance) (4.6.3)\n",
      "Requirement already satisfied: multitasking>=0.0.7 in /Users/irenehsueh/opt/anaconda3/lib/python3.8/site-packages (from yfinance) (0.0.9)\n",
      "Requirement already satisfied: python-dateutil>=2.7.3 in /Users/irenehsueh/opt/anaconda3/lib/python3.8/site-packages (from pandas>=0.24->yfinance) (2.8.2)\n",
      "Requirement already satisfied: pytz>=2017.3 in /Users/irenehsueh/opt/anaconda3/lib/python3.8/site-packages (from pandas>=0.24->yfinance) (2021.1)\n",
      "Requirement already satisfied: six>=1.5 in /Users/irenehsueh/opt/anaconda3/lib/python3.8/site-packages (from python-dateutil>=2.7.3->pandas>=0.24->yfinance) (1.16.0)\n",
      "Requirement already satisfied: idna<3,>=2.5 in /Users/irenehsueh/opt/anaconda3/lib/python3.8/site-packages (from requests>=2.20->yfinance) (2.10)\n",
      "Requirement already satisfied: urllib3<1.27,>=1.21.1 in /Users/irenehsueh/opt/anaconda3/lib/python3.8/site-packages (from requests>=2.20->yfinance) (1.26.6)\n",
      "Requirement already satisfied: certifi>=2017.4.17 in /Users/irenehsueh/opt/anaconda3/lib/python3.8/site-packages (from requests>=2.20->yfinance) (2021.5.30)\n",
      "Requirement already satisfied: chardet<5,>=3.0.2 in /Users/irenehsueh/opt/anaconda3/lib/python3.8/site-packages (from requests>=2.20->yfinance) (4.0.0)\n"
     ]
    }
   ],
   "source": [
    "!pip install yfinance\n",
    "import yfinance as yf "
   ]
  },
  {
   "cell_type": "code",
   "execution_count": 206,
   "metadata": {
    "colab": {
     "base_uri": "https://localhost:8080/",
     "height": 127
    },
    "id": "RSvh0DZAk79a",
    "outputId": "ac53c596-e161-4062-bf68-8b75497dda3c"
   },
   "outputs": [
    {
     "name": "stdout",
     "output_type": "stream",
     "text": [
      "[*********************100%***********************]  1 of 1 completed\n"
     ]
    },
    {
     "data": {
      "text/html": [
       "<div>\n",
       "<style scoped>\n",
       "    .dataframe tbody tr th:only-of-type {\n",
       "        vertical-align: middle;\n",
       "    }\n",
       "\n",
       "    .dataframe tbody tr th {\n",
       "        vertical-align: top;\n",
       "    }\n",
       "\n",
       "    .dataframe thead th {\n",
       "        text-align: right;\n",
       "    }\n",
       "</style>\n",
       "<table border=\"1\" class=\"dataframe\">\n",
       "  <thead>\n",
       "    <tr style=\"text-align: right;\">\n",
       "      <th></th>\n",
       "      <th>Date</th>\n",
       "      <th>Open</th>\n",
       "      <th>High</th>\n",
       "      <th>Low</th>\n",
       "      <th>Close</th>\n",
       "      <th>Adj Close</th>\n",
       "      <th>Volume</th>\n",
       "    </tr>\n",
       "  </thead>\n",
       "  <tbody>\n",
       "    <tr>\n",
       "      <th>0</th>\n",
       "      <td>2021-09-13</td>\n",
       "      <td>4474.810059</td>\n",
       "      <td>4492.990234</td>\n",
       "      <td>4453.629883</td>\n",
       "      <td>4461.660156</td>\n",
       "      <td>4461.660156</td>\n",
       "      <td>937575862</td>\n",
       "    </tr>\n",
       "  </tbody>\n",
       "</table>\n",
       "</div>"
      ],
      "text/plain": [
       "        Date         Open         High          Low        Close    Adj Close  \\\n",
       "0 2021-09-13  4474.810059  4492.990234  4453.629883  4461.660156  4461.660156   \n",
       "\n",
       "      Volume  \n",
       "0  937575862  "
      ]
     },
     "metadata": {},
     "output_type": "display_data"
    },
    {
     "name": "stdout",
     "output_type": "stream",
     "text": [
      "- ^SPX: 1d data not available for startTime=-2208988800 and endTime=1631550959. Only 100 years worth of day granularity data are allowed to be fetched per request.\n"
     ]
    },
    {
     "data": {
      "text/plain": [
       "[]"
      ]
     },
     "metadata": {},
     "output_type": "display_data"
    }
   ],
   "source": [
    "spx = yf.Ticker('^SPX')\n",
    "\n",
    "# get the stock prices\n",
    "from pandas_datareader import data as pdr\n",
    "yf.pdr_override() \n",
    "history = pdr.get_data_yahoo(\"^SPX\", start=\"2021-1-1\", end=\"2021-12-31\")\n",
    "history = history.reset_index()\n",
    "\n",
    "\n",
    "# convert the columns to float type\n",
    "for i in ['Open', 'High', 'Low', 'Close']:\n",
    "  history[i]  =  history[i].astype('float64')\n",
    "\n",
    "display(history)\n",
    "\n",
    "\n",
    "# get the dividend rate\n",
    "dividends =spx.actions     # or spx.dividends\n",
    "display(dividends)"
   ]
  },
  {
   "cell_type": "markdown",
   "metadata": {
    "id": "Fkng4WNRS8k5"
   },
   "source": [
    "# **Get the option info (option price and strike price K)**"
   ]
  },
  {
   "cell_type": "code",
   "execution_count": 183,
   "metadata": {
    "colab": {
     "base_uri": "https://localhost:8080/",
     "height": 1000
    },
    "id": "fidKin-0ZZWV",
    "outputId": "7c892967-25c3-4dbc-d595-72fc639f7283"
   },
   "outputs": [
    {
     "name": "stdout",
     "output_type": "stream",
     "text": [
      "Requirement already satisfied: yahoo-fin in /Users/irenehsueh/opt/anaconda3/lib/python3.8/site-packages (0.8.9.1)\n",
      "Requirement already satisfied: requests in /Users/irenehsueh/opt/anaconda3/lib/python3.8/site-packages (from yahoo-fin) (2.25.1)\n",
      "Requirement already satisfied: feedparser in /Users/irenehsueh/opt/anaconda3/lib/python3.8/site-packages (from yahoo-fin) (6.0.8)\n",
      "Requirement already satisfied: pandas in /Users/irenehsueh/opt/anaconda3/lib/python3.8/site-packages (from yahoo-fin) (1.3.1)\n",
      "Requirement already satisfied: requests-html in /Users/irenehsueh/opt/anaconda3/lib/python3.8/site-packages (from yahoo-fin) (0.10.0)\n",
      "Requirement already satisfied: sgmllib3k in /Users/irenehsueh/opt/anaconda3/lib/python3.8/site-packages (from feedparser->yahoo-fin) (1.0.0)\n",
      "Requirement already satisfied: numpy>=1.17.3 in /Users/irenehsueh/opt/anaconda3/lib/python3.8/site-packages (from pandas->yahoo-fin) (1.20.3)\n",
      "Requirement already satisfied: python-dateutil>=2.7.3 in /Users/irenehsueh/opt/anaconda3/lib/python3.8/site-packages (from pandas->yahoo-fin) (2.8.2)\n",
      "Requirement already satisfied: pytz>=2017.3 in /Users/irenehsueh/opt/anaconda3/lib/python3.8/site-packages (from pandas->yahoo-fin) (2021.1)\n",
      "Requirement already satisfied: six>=1.5 in /Users/irenehsueh/opt/anaconda3/lib/python3.8/site-packages (from python-dateutil>=2.7.3->pandas->yahoo-fin) (1.16.0)\n",
      "Requirement already satisfied: urllib3<1.27,>=1.21.1 in /Users/irenehsueh/opt/anaconda3/lib/python3.8/site-packages (from requests->yahoo-fin) (1.26.6)\n",
      "Requirement already satisfied: idna<3,>=2.5 in /Users/irenehsueh/opt/anaconda3/lib/python3.8/site-packages (from requests->yahoo-fin) (2.10)\n",
      "Requirement already satisfied: certifi>=2017.4.17 in /Users/irenehsueh/opt/anaconda3/lib/python3.8/site-packages (from requests->yahoo-fin) (2021.5.30)\n",
      "Requirement already satisfied: chardet<5,>=3.0.2 in /Users/irenehsueh/opt/anaconda3/lib/python3.8/site-packages (from requests->yahoo-fin) (4.0.0)\n",
      "Requirement already satisfied: w3lib in /Users/irenehsueh/opt/anaconda3/lib/python3.8/site-packages (from requests-html->yahoo-fin) (1.22.0)\n",
      "Requirement already satisfied: bs4 in /Users/irenehsueh/opt/anaconda3/lib/python3.8/site-packages (from requests-html->yahoo-fin) (0.0.1)\n",
      "Requirement already satisfied: parse in /Users/irenehsueh/opt/anaconda3/lib/python3.8/site-packages (from requests-html->yahoo-fin) (1.19.0)\n",
      "Requirement already satisfied: pyquery in /Users/irenehsueh/opt/anaconda3/lib/python3.8/site-packages (from requests-html->yahoo-fin) (1.4.3)\n",
      "Requirement already satisfied: pyppeteer>=0.0.14 in /Users/irenehsueh/opt/anaconda3/lib/python3.8/site-packages (from requests-html->yahoo-fin) (0.2.6)\n",
      "Requirement already satisfied: fake-useragent in /Users/irenehsueh/opt/anaconda3/lib/python3.8/site-packages (from requests-html->yahoo-fin) (0.1.11)\n",
      "Requirement already satisfied: appdirs<2.0.0,>=1.4.3 in /Users/irenehsueh/opt/anaconda3/lib/python3.8/site-packages (from pyppeteer>=0.0.14->requests-html->yahoo-fin) (1.4.4)\n",
      "Requirement already satisfied: websockets<10.0,>=9.1 in /Users/irenehsueh/opt/anaconda3/lib/python3.8/site-packages (from pyppeteer>=0.0.14->requests-html->yahoo-fin) (9.1)\n",
      "Requirement already satisfied: tqdm<5.0.0,>=4.42.1 in /Users/irenehsueh/opt/anaconda3/lib/python3.8/site-packages (from pyppeteer>=0.0.14->requests-html->yahoo-fin) (4.62.1)\n",
      "Requirement already satisfied: importlib-metadata>=1.4 in /Users/irenehsueh/opt/anaconda3/lib/python3.8/site-packages (from pyppeteer>=0.0.14->requests-html->yahoo-fin) (3.10.0)\n",
      "Requirement already satisfied: pyee<9.0.0,>=8.1.0 in /Users/irenehsueh/opt/anaconda3/lib/python3.8/site-packages (from pyppeteer>=0.0.14->requests-html->yahoo-fin) (8.2.2)\n",
      "Requirement already satisfied: zipp>=0.5 in /Users/irenehsueh/opt/anaconda3/lib/python3.8/site-packages (from importlib-metadata>=1.4->pyppeteer>=0.0.14->requests-html->yahoo-fin) (3.5.0)\n",
      "Requirement already satisfied: beautifulsoup4 in /Users/irenehsueh/opt/anaconda3/lib/python3.8/site-packages (from bs4->requests-html->yahoo-fin) (4.9.3)\n",
      "Requirement already satisfied: soupsieve>1.2 in /Users/irenehsueh/opt/anaconda3/lib/python3.8/site-packages (from beautifulsoup4->bs4->requests-html->yahoo-fin) (2.2.1)\n",
      "Requirement already satisfied: lxml>=2.1 in /Users/irenehsueh/opt/anaconda3/lib/python3.8/site-packages (from pyquery->requests-html->yahoo-fin) (4.6.3)\n",
      "Requirement already satisfied: cssselect>0.7.9 in /Users/irenehsueh/opt/anaconda3/lib/python3.8/site-packages (from pyquery->requests-html->yahoo-fin) (1.1.0)\n"
     ]
    }
   ],
   "source": [
    "!pip install yahoo-fin"
   ]
  },
  {
   "cell_type": "code",
   "execution_count": 207,
   "metadata": {
    "colab": {
     "base_uri": "https://localhost:8080/",
     "height": 887
    },
    "id": "kbRVBVgYTQjj",
    "outputId": "ff77c130-bc19-4906-827e-0607635165a8"
   },
   "outputs": [
    {
     "name": "stdout",
     "output_type": "stream",
     "text": [
      "The expirations dates are ('2021-09-13', '2021-09-15', '2021-09-17', '2021-09-20', '2021-09-22', '2021-09-24', '2021-09-27', '2021-09-29', '2021-09-30', '2021-10-01', '2021-10-04', '2021-10-06', '2021-10-08', '2021-10-11', '2021-10-15', '2021-10-22', '2021-10-29', '2021-11-05', '2021-11-19', '2021-11-30', '2021-12-17', '2021-12-31', '2022-01-21', '2022-01-31', '2022-02-18', '2022-02-28', '2022-03-18', '2022-03-31', '2022-04-14', '2022-05-20', '2022-06-17', '2022-06-30', '2022-07-15', '2022-08-19', '2022-09-16', '2022-12-16', '2023-01-20', '2023-06-16', '2023-12-15', '2026-03-20') \n",
      "\n",
      "\n"
     ]
    },
    {
     "data": {
      "text/html": [
       "<div>\n",
       "<style scoped>\n",
       "    .dataframe tbody tr th:only-of-type {\n",
       "        vertical-align: middle;\n",
       "    }\n",
       "\n",
       "    .dataframe tbody tr th {\n",
       "        vertical-align: top;\n",
       "    }\n",
       "\n",
       "    .dataframe thead th {\n",
       "        text-align: right;\n",
       "    }\n",
       "</style>\n",
       "<table border=\"1\" class=\"dataframe\">\n",
       "  <thead>\n",
       "    <tr style=\"text-align: right;\">\n",
       "      <th></th>\n",
       "      <th>Contract Name</th>\n",
       "      <th>Last Trade Date</th>\n",
       "      <th>Strike</th>\n",
       "      <th>LastPrice</th>\n",
       "      <th>Bid</th>\n",
       "      <th>Ask</th>\n",
       "      <th>Change</th>\n",
       "      <th>% Change</th>\n",
       "      <th>Volume</th>\n",
       "      <th>Open Interest</th>\n",
       "      <th>IV</th>\n",
       "    </tr>\n",
       "  </thead>\n",
       "  <tbody>\n",
       "    <tr>\n",
       "      <th>0</th>\n",
       "      <td>SPXW211231C01000000</td>\n",
       "      <td>2021-08-24 10:42AM EDT</td>\n",
       "      <td>1000.0</td>\n",
       "      <td>3471.20</td>\n",
       "      <td>3436.10</td>\n",
       "      <td>3459.00</td>\n",
       "      <td>0.0</td>\n",
       "      <td>-</td>\n",
       "      <td>1</td>\n",
       "      <td>31</td>\n",
       "      <td>0.00%</td>\n",
       "    </tr>\n",
       "    <tr>\n",
       "      <th>1</th>\n",
       "      <td>SPXW211231C01500000</td>\n",
       "      <td>2021-08-25 5:28PM EDT</td>\n",
       "      <td>1500.0</td>\n",
       "      <td>2714.57</td>\n",
       "      <td>2944.40</td>\n",
       "      <td>2964.90</td>\n",
       "      <td>0.0</td>\n",
       "      <td>-</td>\n",
       "      <td>1</td>\n",
       "      <td>0</td>\n",
       "      <td>83.95%</td>\n",
       "    </tr>\n",
       "    <tr>\n",
       "      <th>2</th>\n",
       "      <td>SPXW211231C02000000</td>\n",
       "      <td>2021-08-31 11:59AM EDT</td>\n",
       "      <td>2000.0</td>\n",
       "      <td>2516.52</td>\n",
       "      <td>2442.30</td>\n",
       "      <td>2457.10</td>\n",
       "      <td>0.0</td>\n",
       "      <td>-</td>\n",
       "      <td>9</td>\n",
       "      <td>15</td>\n",
       "      <td>0.00%</td>\n",
       "    </tr>\n",
       "    <tr>\n",
       "      <th>3</th>\n",
       "      <td>SPXW211231C02250000</td>\n",
       "      <td>2021-08-25 5:28PM EDT</td>\n",
       "      <td>2250.0</td>\n",
       "      <td>1957.50</td>\n",
       "      <td>2198.60</td>\n",
       "      <td>2218.00</td>\n",
       "      <td>0.0</td>\n",
       "      <td>-</td>\n",
       "      <td>-</td>\n",
       "      <td>7</td>\n",
       "      <td>59.37%</td>\n",
       "    </tr>\n",
       "    <tr>\n",
       "      <th>4</th>\n",
       "      <td>SPXW211231C02300000</td>\n",
       "      <td>2021-08-25 5:28PM EDT</td>\n",
       "      <td>2300.0</td>\n",
       "      <td>1908.40</td>\n",
       "      <td>2148.90</td>\n",
       "      <td>2171.10</td>\n",
       "      <td>0.0</td>\n",
       "      <td>-</td>\n",
       "      <td>-</td>\n",
       "      <td>7</td>\n",
       "      <td>61.16%</td>\n",
       "    </tr>\n",
       "    <tr>\n",
       "      <th>...</th>\n",
       "      <td>...</td>\n",
       "      <td>...</td>\n",
       "      <td>...</td>\n",
       "      <td>...</td>\n",
       "      <td>...</td>\n",
       "      <td>...</td>\n",
       "      <td>...</td>\n",
       "      <td>...</td>\n",
       "      <td>...</td>\n",
       "      <td>...</td>\n",
       "      <td>...</td>\n",
       "    </tr>\n",
       "    <tr>\n",
       "      <th>251</th>\n",
       "      <td>SPXW211231C06100000</td>\n",
       "      <td>2021-08-25 5:28PM EDT</td>\n",
       "      <td>6100.0</td>\n",
       "      <td>0.72</td>\n",
       "      <td>0.05</td>\n",
       "      <td>0.15</td>\n",
       "      <td>0.0</td>\n",
       "      <td>-</td>\n",
       "      <td>2</td>\n",
       "      <td>3</td>\n",
       "      <td>18.48%</td>\n",
       "    </tr>\n",
       "    <tr>\n",
       "      <th>252</th>\n",
       "      <td>SPXW211231C06200000</td>\n",
       "      <td>2021-08-25 5:28PM EDT</td>\n",
       "      <td>6200.0</td>\n",
       "      <td>0.25</td>\n",
       "      <td>0.00</td>\n",
       "      <td>0.15</td>\n",
       "      <td>0.0</td>\n",
       "      <td>-</td>\n",
       "      <td>1</td>\n",
       "      <td>1</td>\n",
       "      <td>19.35%</td>\n",
       "    </tr>\n",
       "    <tr>\n",
       "      <th>253</th>\n",
       "      <td>SPXW211231C06300000</td>\n",
       "      <td>2021-08-25 5:28PM EDT</td>\n",
       "      <td>6300.0</td>\n",
       "      <td>0.65</td>\n",
       "      <td>0.00</td>\n",
       "      <td>0.15</td>\n",
       "      <td>0.0</td>\n",
       "      <td>-</td>\n",
       "      <td>3</td>\n",
       "      <td>5</td>\n",
       "      <td>20.19%</td>\n",
       "    </tr>\n",
       "    <tr>\n",
       "      <th>254</th>\n",
       "      <td>SPXW211231C06400000</td>\n",
       "      <td>2021-08-25 5:28PM EDT</td>\n",
       "      <td>6400.0</td>\n",
       "      <td>0.10</td>\n",
       "      <td>0.00</td>\n",
       "      <td>0.15</td>\n",
       "      <td>0.0</td>\n",
       "      <td>-</td>\n",
       "      <td>40</td>\n",
       "      <td>95</td>\n",
       "      <td>21.02%</td>\n",
       "    </tr>\n",
       "    <tr>\n",
       "      <th>255</th>\n",
       "      <td>SPXW211231C06500000</td>\n",
       "      <td>2021-08-25 5:28PM EDT</td>\n",
       "      <td>6500.0</td>\n",
       "      <td>0.10</td>\n",
       "      <td>0.00</td>\n",
       "      <td>0.10</td>\n",
       "      <td>0.0</td>\n",
       "      <td>-</td>\n",
       "      <td>30</td>\n",
       "      <td>87</td>\n",
       "      <td>21.17%</td>\n",
       "    </tr>\n",
       "  </tbody>\n",
       "</table>\n",
       "<p>256 rows × 11 columns</p>\n",
       "</div>"
      ],
      "text/plain": [
       "           Contract Name         Last Trade Date  Strike  LastPrice      Bid  \\\n",
       "0    SPXW211231C01000000  2021-08-24 10:42AM EDT  1000.0    3471.20  3436.10   \n",
       "1    SPXW211231C01500000   2021-08-25 5:28PM EDT  1500.0    2714.57  2944.40   \n",
       "2    SPXW211231C02000000  2021-08-31 11:59AM EDT  2000.0    2516.52  2442.30   \n",
       "3    SPXW211231C02250000   2021-08-25 5:28PM EDT  2250.0    1957.50  2198.60   \n",
       "4    SPXW211231C02300000   2021-08-25 5:28PM EDT  2300.0    1908.40  2148.90   \n",
       "..                   ...                     ...     ...        ...      ...   \n",
       "251  SPXW211231C06100000   2021-08-25 5:28PM EDT  6100.0       0.72     0.05   \n",
       "252  SPXW211231C06200000   2021-08-25 5:28PM EDT  6200.0       0.25     0.00   \n",
       "253  SPXW211231C06300000   2021-08-25 5:28PM EDT  6300.0       0.65     0.00   \n",
       "254  SPXW211231C06400000   2021-08-25 5:28PM EDT  6400.0       0.10     0.00   \n",
       "255  SPXW211231C06500000   2021-08-25 5:28PM EDT  6500.0       0.10     0.00   \n",
       "\n",
       "         Ask  Change % Change Volume  Open Interest      IV  \n",
       "0    3459.00     0.0        -      1             31   0.00%  \n",
       "1    2964.90     0.0        -      1              0  83.95%  \n",
       "2    2457.10     0.0        -      9             15   0.00%  \n",
       "3    2218.00     0.0        -      -              7  59.37%  \n",
       "4    2171.10     0.0        -      -              7  61.16%  \n",
       "..       ...     ...      ...    ...            ...     ...  \n",
       "251     0.15     0.0        -      2              3  18.48%  \n",
       "252     0.15     0.0        -      1              1  19.35%  \n",
       "253     0.15     0.0        -      3              5  20.19%  \n",
       "254     0.15     0.0        -     40             95  21.02%  \n",
       "255     0.10     0.0        -     30             87  21.17%  \n",
       "\n",
       "[256 rows x 11 columns]"
      ]
     },
     "metadata": {},
     "output_type": "display_data"
    },
    {
     "data": {
      "text/html": [
       "<div>\n",
       "<style scoped>\n",
       "    .dataframe tbody tr th:only-of-type {\n",
       "        vertical-align: middle;\n",
       "    }\n",
       "\n",
       "    .dataframe tbody tr th {\n",
       "        vertical-align: top;\n",
       "    }\n",
       "\n",
       "    .dataframe thead th {\n",
       "        text-align: right;\n",
       "    }\n",
       "</style>\n",
       "<table border=\"1\" class=\"dataframe\">\n",
       "  <thead>\n",
       "    <tr style=\"text-align: right;\">\n",
       "      <th></th>\n",
       "      <th>Contract Name</th>\n",
       "      <th>Last Trade Date</th>\n",
       "      <th>Strike</th>\n",
       "      <th>LastPrice</th>\n",
       "      <th>Bid</th>\n",
       "      <th>Ask</th>\n",
       "      <th>Change</th>\n",
       "      <th>% Change</th>\n",
       "      <th>Volume</th>\n",
       "      <th>Open Interest</th>\n",
       "      <th>IV</th>\n",
       "    </tr>\n",
       "  </thead>\n",
       "  <tbody>\n",
       "    <tr>\n",
       "      <th>0</th>\n",
       "      <td>SPXW211231P01000000</td>\n",
       "      <td>2021-09-02 2:47PM EDT</td>\n",
       "      <td>1000.0</td>\n",
       "      <td>0.25</td>\n",
       "      <td>0.20</td>\n",
       "      <td>0.35</td>\n",
       "      <td>0.0</td>\n",
       "      <td>-</td>\n",
       "      <td>3</td>\n",
       "      <td>430</td>\n",
       "      <td>88.13%</td>\n",
       "    </tr>\n",
       "    <tr>\n",
       "      <th>1</th>\n",
       "      <td>SPXW211231P01100000</td>\n",
       "      <td>2021-08-20 11:08AM EDT</td>\n",
       "      <td>1100.0</td>\n",
       "      <td>0.65</td>\n",
       "      <td>0.30</td>\n",
       "      <td>0.45</td>\n",
       "      <td>0.0</td>\n",
       "      <td>-</td>\n",
       "      <td>3</td>\n",
       "      <td>1190</td>\n",
       "      <td>84.81%</td>\n",
       "    </tr>\n",
       "    <tr>\n",
       "      <th>2</th>\n",
       "      <td>SPXW211231P01200000</td>\n",
       "      <td>2021-08-31 4:09PM EDT</td>\n",
       "      <td>1200.0</td>\n",
       "      <td>0.45</td>\n",
       "      <td>0.40</td>\n",
       "      <td>0.55</td>\n",
       "      <td>0.0</td>\n",
       "      <td>-</td>\n",
       "      <td>10</td>\n",
       "      <td>774</td>\n",
       "      <td>81.35%</td>\n",
       "    </tr>\n",
       "    <tr>\n",
       "      <th>3</th>\n",
       "      <td>SPXW211231P01300000</td>\n",
       "      <td>2021-09-02 2:47PM EDT</td>\n",
       "      <td>1300.0</td>\n",
       "      <td>0.65</td>\n",
       "      <td>0.50</td>\n",
       "      <td>0.65</td>\n",
       "      <td>0.0</td>\n",
       "      <td>-</td>\n",
       "      <td>1</td>\n",
       "      <td>113</td>\n",
       "      <td>77.86%</td>\n",
       "    </tr>\n",
       "    <tr>\n",
       "      <th>4</th>\n",
       "      <td>SPXW211231P01400000</td>\n",
       "      <td>2021-08-18 9:55AM EDT</td>\n",
       "      <td>1400.0</td>\n",
       "      <td>1.30</td>\n",
       "      <td>0.65</td>\n",
       "      <td>0.80</td>\n",
       "      <td>0.0</td>\n",
       "      <td>-</td>\n",
       "      <td>3</td>\n",
       "      <td>11</td>\n",
       "      <td>74.94%</td>\n",
       "    </tr>\n",
       "    <tr>\n",
       "      <th>...</th>\n",
       "      <td>...</td>\n",
       "      <td>...</td>\n",
       "      <td>...</td>\n",
       "      <td>...</td>\n",
       "      <td>...</td>\n",
       "      <td>...</td>\n",
       "      <td>...</td>\n",
       "      <td>...</td>\n",
       "      <td>...</td>\n",
       "      <td>...</td>\n",
       "      <td>...</td>\n",
       "    </tr>\n",
       "    <tr>\n",
       "      <th>343</th>\n",
       "      <td>SPXW211231P05000000</td>\n",
       "      <td>2021-08-25 5:31PM EDT</td>\n",
       "      <td>5000.0</td>\n",
       "      <td>691.51</td>\n",
       "      <td>542.00</td>\n",
       "      <td>549.70</td>\n",
       "      <td>0.0</td>\n",
       "      <td>-</td>\n",
       "      <td>2</td>\n",
       "      <td>3</td>\n",
       "      <td>14.04%</td>\n",
       "    </tr>\n",
       "    <tr>\n",
       "      <th>344</th>\n",
       "      <td>SPXW211231P05500000</td>\n",
       "      <td>2021-08-25 5:31PM EDT</td>\n",
       "      <td>5500.0</td>\n",
       "      <td>1268.00</td>\n",
       "      <td>1037.80</td>\n",
       "      <td>1046.60</td>\n",
       "      <td>0.0</td>\n",
       "      <td>-</td>\n",
       "      <td>4</td>\n",
       "      <td>4</td>\n",
       "      <td>21.12%</td>\n",
       "    </tr>\n",
       "    <tr>\n",
       "      <th>345</th>\n",
       "      <td>SPXW211231P06000000</td>\n",
       "      <td>2021-08-25 5:31PM EDT</td>\n",
       "      <td>6000.0</td>\n",
       "      <td>1613.90</td>\n",
       "      <td>1530.10</td>\n",
       "      <td>1549.00</td>\n",
       "      <td>0.0</td>\n",
       "      <td>-</td>\n",
       "      <td>1</td>\n",
       "      <td>1</td>\n",
       "      <td>29.23%</td>\n",
       "    </tr>\n",
       "    <tr>\n",
       "      <th>346</th>\n",
       "      <td>SPXW211231P06400000</td>\n",
       "      <td>2021-08-25 5:31PM EDT</td>\n",
       "      <td>6400.0</td>\n",
       "      <td>2020.10</td>\n",
       "      <td>1929.40</td>\n",
       "      <td>1948.30</td>\n",
       "      <td>0.0</td>\n",
       "      <td>-</td>\n",
       "      <td>1</td>\n",
       "      <td>2</td>\n",
       "      <td>33.86%</td>\n",
       "    </tr>\n",
       "    <tr>\n",
       "      <th>347</th>\n",
       "      <td>SPXW211231P06500000</td>\n",
       "      <td>2021-08-25 5:31PM EDT</td>\n",
       "      <td>6500.0</td>\n",
       "      <td>2283.03</td>\n",
       "      <td>2026.10</td>\n",
       "      <td>2048.10</td>\n",
       "      <td>0.0</td>\n",
       "      <td>-</td>\n",
       "      <td>1</td>\n",
       "      <td>31</td>\n",
       "      <td>34.91%</td>\n",
       "    </tr>\n",
       "  </tbody>\n",
       "</table>\n",
       "<p>348 rows × 11 columns</p>\n",
       "</div>"
      ],
      "text/plain": [
       "           Contract Name         Last Trade Date  Strike  LastPrice      Bid  \\\n",
       "0    SPXW211231P01000000   2021-09-02 2:47PM EDT  1000.0       0.25     0.20   \n",
       "1    SPXW211231P01100000  2021-08-20 11:08AM EDT  1100.0       0.65     0.30   \n",
       "2    SPXW211231P01200000   2021-08-31 4:09PM EDT  1200.0       0.45     0.40   \n",
       "3    SPXW211231P01300000   2021-09-02 2:47PM EDT  1300.0       0.65     0.50   \n",
       "4    SPXW211231P01400000   2021-08-18 9:55AM EDT  1400.0       1.30     0.65   \n",
       "..                   ...                     ...     ...        ...      ...   \n",
       "343  SPXW211231P05000000   2021-08-25 5:31PM EDT  5000.0     691.51   542.00   \n",
       "344  SPXW211231P05500000   2021-08-25 5:31PM EDT  5500.0    1268.00  1037.80   \n",
       "345  SPXW211231P06000000   2021-08-25 5:31PM EDT  6000.0    1613.90  1530.10   \n",
       "346  SPXW211231P06400000   2021-08-25 5:31PM EDT  6400.0    2020.10  1929.40   \n",
       "347  SPXW211231P06500000   2021-08-25 5:31PM EDT  6500.0    2283.03  2026.10   \n",
       "\n",
       "         Ask  Change % Change Volume  Open Interest      IV  \n",
       "0       0.35     0.0        -      3            430  88.13%  \n",
       "1       0.45     0.0        -      3           1190  84.81%  \n",
       "2       0.55     0.0        -     10            774  81.35%  \n",
       "3       0.65     0.0        -      1            113  77.86%  \n",
       "4       0.80     0.0        -      3             11  74.94%  \n",
       "..       ...     ...      ...    ...            ...     ...  \n",
       "343   549.70     0.0        -      2              3  14.04%  \n",
       "344  1046.60     0.0        -      4              4  21.12%  \n",
       "345  1549.00     0.0        -      1              1  29.23%  \n",
       "346  1948.30     0.0        -      1              2  33.86%  \n",
       "347  2048.10     0.0        -      1             31  34.91%  \n",
       "\n",
       "[348 rows x 11 columns]"
      ]
     },
     "metadata": {},
     "output_type": "display_data"
    }
   ],
   "source": [
    "from yahoo_fin import options\n",
    "\n",
    "# get the expiration dates\n",
    "print(\"The expirations dates are\", spx.options, \"\\n\\n\")\n",
    "\n",
    "# get call options only (can take off the specific expiration date ==> gets the data for nearest upcoming expiration date)\n",
    "calls = options.get_calls(\"^SPX\", '2021-12-31')\n",
    "calls.rename(columns = {'Last Price':'LastPrice'}, inplace = True)\n",
    "calls.rename(columns = {'Implied Volatility':'IV'}, inplace = True)\n",
    "display(calls)\n",
    "\n",
    "\n",
    "# get put options only\n",
    "puts = options.get_puts(\"^SPX\", '2021-12-31')\n",
    "puts.rename(columns = {'Last Price':'LastPrice'}, inplace = True)\n",
    "puts.rename(columns = {'Implied Volatility':'IV'}, inplace = True)\n",
    "display(puts)"
   ]
  },
  {
   "cell_type": "markdown",
   "metadata": {
    "id": "iV1Dcrx9dnkg"
   },
   "source": [
    "# **Construct the Volatility Smile**"
   ]
  },
  {
   "cell_type": "code",
   "execution_count": 208,
   "metadata": {
    "colab": {
     "base_uri": "https://localhost:8080/",
     "height": 78
    },
    "id": "HWgwY86W05TM",
    "outputId": "7b24ab0e-f358-4162-9aaf-4d620def1dfd"
   },
   "outputs": [
    {
     "data": {
      "text/html": [
       "<div>\n",
       "<style scoped>\n",
       "    .dataframe tbody tr th:only-of-type {\n",
       "        vertical-align: middle;\n",
       "    }\n",
       "\n",
       "    .dataframe tbody tr th {\n",
       "        vertical-align: top;\n",
       "    }\n",
       "\n",
       "    .dataframe thead th {\n",
       "        text-align: right;\n",
       "    }\n",
       "</style>\n",
       "<table border=\"1\" class=\"dataframe\">\n",
       "  <thead>\n",
       "    <tr style=\"text-align: right;\">\n",
       "      <th></th>\n",
       "      <th>Date</th>\n",
       "      <th>Open</th>\n",
       "      <th>High</th>\n",
       "      <th>Low</th>\n",
       "      <th>Close</th>\n",
       "      <th>Adj Close</th>\n",
       "      <th>Volume</th>\n",
       "    </tr>\n",
       "  </thead>\n",
       "  <tbody>\n",
       "    <tr>\n",
       "      <th>0</th>\n",
       "      <td>2021-09-13</td>\n",
       "      <td>4474.810059</td>\n",
       "      <td>4492.990234</td>\n",
       "      <td>4453.629883</td>\n",
       "      <td>4461.660156</td>\n",
       "      <td>4461.660156</td>\n",
       "      <td>937575862</td>\n",
       "    </tr>\n",
       "  </tbody>\n",
       "</table>\n",
       "</div>"
      ],
      "text/plain": [
       "        Date         Open         High          Low        Close    Adj Close  \\\n",
       "0 2021-09-13  4474.810059  4492.990234  4453.629883  4461.660156  4461.660156   \n",
       "\n",
       "      Volume  \n",
       "0  937575862  "
      ]
     },
     "metadata": {},
     "output_type": "display_data"
    }
   ],
   "source": [
    "display(history)"
   ]
  },
  {
   "cell_type": "code",
   "execution_count": 226,
   "metadata": {
    "colab": {
     "base_uri": "https://localhost:8080/",
     "height": 311
    },
    "id": "swWI8pSudmtk",
    "outputId": "916bb456-3463-4690-ca51-03b0a2b26ad3"
   },
   "outputs": [
    {
     "data": {
      "image/png": "[encoded data removed]",
      "text/plain": [
       "<Figure size 640x480 with 1 Axes>"
      ]
     },
     "metadata": {},
     "output_type": "display_data"
    }
   ],
   "source": [
    "import datetime as dt\n",
    "import matplotlib.pyplot as plt\n",
    "\n",
    "\n",
    "calls2 = calls\n",
    "\n",
    "today = dt.date.today()\n",
    "expiration = dt.date(2021, 12, 31)\n",
    "time_to_expiration = expiration - today\n",
    "time_to_expiration = int(time_to_expiration.days)/365\n",
    "\n",
    "calls2['time_to_expiration'] = time_to_expiration\n",
    "\n",
    "open = float(history.iloc[0][\"Open\"])\n",
    "close = float(history.iloc[0][\"Close\"])\n",
    "calls2['spot_price'] = (open+close)/2\n",
    "\n",
    "\n",
    "\n",
    "ivs_call = [] \n",
    "\n",
    "for row in calls2.itertuples():\n",
    "    iv_call = Brent_IV((row.Bid + row.Ask)/2, row.spot_price, row.Strike, 0.013, row.time_to_expiration, 0.0123, \"call\")\n",
    "    ivs_call.append(iv_call)\n",
    "\n",
    "ivs2 = []\n",
    "for items in calls.IV:\n",
    "  ivs2.append(float(items[:-1])/100)\n",
    "  \n",
    "\n",
    "\n",
    "calculated = plt.scatter(calls2.Strike, ivs_call, label='Calculated')\n",
    "provided = plt.scatter(calls.Strike, ivs2, label='Provided')\n",
    "plt.xlabel('Strike')\n",
    "plt.ylabel('Implied Vol')\n",
    "plt.title('Implied Volatility Curve for SPX Calls')\n",
    "plt.legend() \n",
    "plt.show()\n",
    "\n",
    "\n",
    "\n"
   ]
  },
  {
   "cell_type": "code",
   "execution_count": 227,
   "metadata": {},
   "outputs": [
    {
     "data": {
      "image/png": "[encoded data removed]",
      "text/plain": [
       "<Figure size 640x480 with 1 Axes>"
      ]
     },
     "metadata": {},
     "output_type": "display_data"
    }
   ],
   "source": [
    "puts2 = puts\n",
    "\n",
    "today = dt.date.today()\n",
    "expiration = dt.date(2021, 12, 31)\n",
    "time_to_expiration = expiration - today\n",
    "time_to_expiration = int(time_to_expiration.days)/365\n",
    "\n",
    "puts2['time_to_expiration'] = time_to_expiration\n",
    "\n",
    "open = float(history.iloc[0][\"Open\"])\n",
    "close = float(history.iloc[0][\"Close\"])\n",
    "puts2['spot_price'] = (open+close)/2\n",
    "\n",
    "\n",
    "ivs_put = [] \n",
    "\n",
    "for row in puts2.itertuples():\n",
    "    iv_put = Brent_IV((row.Bid + row.Ask)/2, row.spot_price, row.Strike, 0.013, row.time_to_expiration, 0.0123, \"put\")\n",
    "    ivs_put.append(iv_put)\n",
    "\n",
    "ivs3 = []\n",
    "for items in puts.IV:\n",
    "  ivs3.append(float(items[:-1])/100)\n",
    "  \n",
    "\n",
    "\n",
    "plt.scatter(puts2.Strike, ivs_put, label='Calculated')\n",
    "plt.scatter(puts.Strike, ivs3, label='Provided')\n",
    "plt.xlabel('Strike')\n",
    "plt.ylabel('Implied Vol')\n",
    "plt.title('Implied Volatility Curve for SPX Puts')\n",
    "plt.legend() \n",
    "plt.show()\n",
    "\n",
    "\n"
   ]
  },
  {
   "cell_type": "code",
   "execution_count": 225,
   "metadata": {},
   "outputs": [
    {
     "data": {
      "image/png": "[encoded data removed]",
      "text/plain": [
       "<Figure size 640x480 with 1 Axes>"
      ]
     },
     "metadata": {},
     "output_type": "display_data"
    }
   ],
   "source": [
    "ivs_bid = [] \n",
    "\n",
    "for row in puts2.itertuples():\n",
    "    iv_bid = Brent_IV(row.Bid, row.spot_price, row.Strike, 0.013, row.time_to_expiration, 0.0123, \"put\")\n",
    "    ivs_bid.append(iv_bid)\n",
    "\n",
    "ivs4 = []\n",
    "for items in puts.IV:\n",
    "  ivs4.append(float(items[:-1])/100)\n",
    "  \n",
    "\n",
    "\n",
    "calculated = plt.scatter(puts2.Strike, ivs_bid, label='Calculated')\n",
    "provided = plt.scatter(puts.Strike, ivs4, label='Provided')\n",
    "plt.xlabel('Strike')\n",
    "plt.ylabel('Implied Vol')\n",
    "plt.title('Implied Volatility Curve for SPX Puts; Bid')\n",
    "plt.legend() \n",
    "plt.show()\n",
    "\n"
   ]
  },
  {
   "cell_type": "code",
   "execution_count": 230,
   "metadata": {},
   "outputs": [
    {
     "data": {
      "image/png": "[encoded data removed]",
      "text/plain": [
       "<Figure size 640x480 with 1 Axes>"
      ]
     },
     "metadata": {},
     "output_type": "display_data"
    }
   ],
   "source": [
    "ivs_ask = [] \n",
    "\n",
    "for row in puts2.itertuples():\n",
    "    iv_ask = Brent_IV(row.Ask, row.spot_price, row.Strike, 0.013, row.time_to_expiration, 0.0123, \"put\")\n",
    "    ivs_ask.append(iv_ask)\n",
    "\n",
    "ivs5 = []\n",
    "for items in puts.IV:\n",
    "  ivs5.append(float(items[:-1])/100)\n",
    "  \n",
    "\n",
    "\n",
    "calculated = plt.scatter(puts2.Strike, ivs_ask, label='Calculated')\n",
    "provided = plt.scatter(puts.Strike, ivs5, label='Provided')\n",
    "plt.xlabel('Strike')\n",
    "plt.ylabel('Implied Vol')\n",
    "plt.title('Implied Volatility Curve for SPX Puts; Ask')\n",
    "plt.legend() \n",
    "plt.show()\n",
    "\n"
   ]
  },
  {
   "cell_type": "code",
   "execution_count": null,
   "metadata": {},
   "outputs": [],
   "source": []
  }
 ],
 "metadata": {
  "colab": {
   "collapsed_sections": [],
   "name": "Newton’s_method (1).ipynb",
   "provenance": []
  },
  "kernelspec": {
   "display_name": "Python 3",
   "language": "python",
   "name": "python3"
  },
  "language_info": {
   "codemirror_mode": {
    "name": "ipython",
    "version": 3
   },
   "file_extension": ".py",
   "mimetype": "text/x-python",
   "name": "python",
   "nbconvert_exporter": "python",
   "pygments_lexer": "ipython3",
   "version": "3.8.11"
  }
 },
 "nbformat": 4,
 "nbformat_minor": 1
}
